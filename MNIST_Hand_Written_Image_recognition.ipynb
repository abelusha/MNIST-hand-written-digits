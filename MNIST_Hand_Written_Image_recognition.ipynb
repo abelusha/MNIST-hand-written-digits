{
 "cells": [
  {
   "cell_type": "markdown",
   "metadata": {},
   "source": [
    "**MNIST hand Written Digit Recognition:**\n",
    "\n",
    "<b> A notebook for the classification of the MNIST hand written digits [0-9] dataset.\n",
    "\n",
    "I used Sequential Convolutional Neural Networks (CNN) model using Keras and tensorflow as a backend.\n",
    "\n",
    "\n",
    "\n",
    "Result : |Training Accuracy | Dev(Validation) Accuracy| Testing Accuracy |\n",
    "---------------------------------------------------------------------|\n",
    "         | 99.45 %          | 99.14 %             | 99.31 %          |\n",
    "----------------------------------------------------------------------"
   ]
  },
  {
   "cell_type": "code",
   "execution_count": 1,
   "metadata": {
    "collapsed": true
   },
   "outputs": [],
   "source": [
    "import numpy as np\n",
    "import pandas as pd\n",
    "import datetime\n",
    "import matplotlib.pyplot as plt\n",
    "%matplotlib inline"
   ]
  },
  {
   "cell_type": "code",
   "execution_count": 2,
   "metadata": {
    "collapsed": true
   },
   "outputs": [],
   "source": [
    "import keras"
   ]
  },
  {
   "cell_type": "code",
   "execution_count": 4,
   "metadata": {},
   "outputs": [],
   "source": [
    "from keras.datasets import mnist\n",
    "from keras.utils import to_categorical\n",
    "from keras.models import Sequential\n",
    "from keras.layers import Dense,Dropout, Activation, Flatten\n",
    "from keras.layers import Convolution2D, MaxPooling2D\n",
    "from keras.utils import np_utils\n",
    "from keras import backend as K\n",
    "import tensorflow as tf"
   ]
  },
  {
   "cell_type": "code",
   "execution_count": 5,
   "metadata": {
    "collapsed": true
   },
   "outputs": [],
   "source": [
    "batch_size     = 32\n",
    "nb_classes     = 10\n",
    "nb_ephochs     = 50\n",
    "img_rows, img_cols = 28,28\n",
    "nb_filters     = 32\n",
    "pool_size      = 2\n",
    "kernel_size    = 3"
   ]
  },
  {
   "cell_type": "code",
   "execution_count": 6,
   "metadata": {
    "collapsed": true
   },
   "outputs": [],
   "source": [
    "if K.image_dim_ordering() == 'th':\n",
    "    input_shape = (1,img_rows, img_cols)\n",
    "else:\n",
    "    input_shape = (img_rows,img_cols,1)"
   ]
  },
  {
   "cell_type": "code",
   "execution_count": 31,
   "metadata": {
    "collapsed": true
   },
   "outputs": [],
   "source": [
    "(X_train, y_train), (X_test, y_test) = mnist.load_data()"
   ]
  },
  {
   "cell_type": "code",
   "execution_count": 32,
   "metadata": {},
   "outputs": [
    {
     "data": {
      "text/plain": [
       "((60000, 28, 28), (10000, 28, 28))"
      ]
     },
     "execution_count": 32,
     "metadata": {},
     "output_type": "execute_result"
    }
   ],
   "source": [
    "X_train.shape,X_test.shape"
   ]
  },
  {
   "cell_type": "code",
   "execution_count": 33,
   "metadata": {},
   "outputs": [
    {
     "data": {
      "text/plain": [
       "((60000,), (10000,))"
      ]
     },
     "execution_count": 33,
     "metadata": {},
     "output_type": "execute_result"
    }
   ],
   "source": [
    "y_train.shape, y_test.shape"
   ]
  },
  {
   "cell_type": "code",
   "execution_count": 34,
   "metadata": {},
   "outputs": [
    {
     "data": {
      "text/plain": [
       "(5, 7)"
      ]
     },
     "execution_count": 34,
     "metadata": {},
     "output_type": "execute_result"
    }
   ],
   "source": [
    "y_train[0], y_test[0]"
   ]
  },
  {
   "cell_type": "code",
   "execution_count": 20,
   "metadata": {},
   "outputs": [
    {
     "data": {
      "image/png": "[encoded data removed]",
      "text/plain": [
       "<matplotlib.figure.Figure at 0x1422e1d6cc0>"
      ]
     },
     "metadata": {},
     "output_type": "display_data"
    }
   ],
   "source": [
    "fig, axes = plt.subplots(3, 4,figsize=(10,10))\n",
    "for row in axes:\n",
    "    for axe in row:\n",
    "        index = np.random.randint(10000)\n",
    "        img = X_train[index].reshape((28, 28))\n",
    "        obj = X_train[index]\n",
    "        axe.imshow(img, cmap='gray')\n",
    "        axe.set_title(y_train[index])\n",
    "        plt.tight_layout()"
   ]
  },
  {
   "cell_type": "code",
   "execution_count": 35,
   "metadata": {
    "collapsed": true
   },
   "outputs": [],
   "source": [
    "X = X_train\n",
    "y = y_train\n",
    "y = to_categorical(y)"
   ]
  },
  {
   "cell_type": "code",
   "execution_count": 36,
   "metadata": {
    "collapsed": true
   },
   "outputs": [],
   "source": [
    "from sklearn.model_selection import train_test_split"
   ]
  },
  {
   "cell_type": "code",
   "execution_count": 37,
   "metadata": {},
   "outputs": [],
   "source": [
    "X_train, X_val, y_train, y_val = train_test_split(X, y, test_size=0.2, random_state=101)"
   ]
  },
  {
   "cell_type": "code",
   "execution_count": 38,
   "metadata": {
    "collapsed": true
   },
   "outputs": [],
   "source": [
    "X_test = X_test\n",
    "y_test = y_test\n",
    "y_test  = to_categorical(y_test)"
   ]
  },
  {
   "cell_type": "code",
   "execution_count": 39,
   "metadata": {},
   "outputs": [
    {
     "name": "stdout",
     "output_type": "stream",
     "text": [
      "(48000, 28, 28)\n",
      "(12000, 28, 28)\n",
      "(10000, 28, 28)\n"
     ]
    }
   ],
   "source": [
    "print(X_train.shape)\n",
    "print(X_val.shape)\n",
    "print(X_test.shape)"
   ]
  },
  {
   "cell_type": "code",
   "execution_count": 40,
   "metadata": {
    "collapsed": true
   },
   "outputs": [],
   "source": [
    "X_train = X_train.reshape(X_train.shape[0], img_rows, img_cols, 1)\n",
    "X_val = X_val.reshape(X_val.shape[0], img_rows, img_cols, 1)\n",
    "X_test = X_test.reshape(X_test.shape[0], img_rows, img_cols, 1)\n",
    "\n",
    "\n",
    "X_train = X_train.astype('float32')\n",
    "X_val = X_val.astype('float32')\n",
    "X_test = X_test.astype('float32')\n",
    "\n",
    "X_train = X_train  / 255\n",
    "X_val   = X_val   / 255\n",
    "X_test  = X_test / 255"
   ]
  },
  {
   "cell_type": "code",
   "execution_count": 41,
   "metadata": {},
   "outputs": [
    {
     "name": "stdout",
     "output_type": "stream",
     "text": [
      "(48000, 28, 28, 1)\n",
      "(12000, 28, 28, 1)\n",
      "(10000, 28, 28, 1)\n"
     ]
    }
   ],
   "source": [
    "print(X_train.shape)\n",
    "print(X_val.shape)\n",
    "print(X_test.shape)"
   ]
  },
  {
   "cell_type": "code",
   "execution_count": 44,
   "metadata": {},
   "outputs": [
    {
     "data": {
      "text/plain": [
       "(1.0, 1.0, 1.0)"
      ]
     },
     "execution_count": 44,
     "metadata": {},
     "output_type": "execute_result"
    }
   ],
   "source": [
    "X_train.max(),X_val.max(), X_test.max()"
   ]
  },
  {
   "cell_type": "code",
   "execution_count": 45,
   "metadata": {},
   "outputs": [
    {
     "data": {
      "text/plain": [
       "(0.0, 0.0, 0.0)"
      ]
     },
     "execution_count": 45,
     "metadata": {},
     "output_type": "execute_result"
    }
   ],
   "source": [
    "X_train.min(),X_val.min(), X_test.min()"
   ]
  },
  {
   "cell_type": "code",
   "execution_count": 46,
   "metadata": {},
   "outputs": [
    {
     "name": "stderr",
     "output_type": "stream",
     "text": [
      "C:\\Users\\gebabe\\AppData\\Local\\Continuum\\Anaconda3\\lib\\site-packages\\ipykernel_launcher.py:11: UserWarning: Update your `Dense` call to the Keras 2 API: `Dense(activation=\"relu\", units=128)`\n",
      "  # This is added back by InteractiveShellApp.init_path()\n",
      "C:\\Users\\gebabe\\AppData\\Local\\Continuum\\Anaconda3\\lib\\site-packages\\ipykernel_launcher.py:13: UserWarning: Update your `Dense` call to the Keras 2 API: `Dense(activation=\"softmax\", units=10)`\n",
      "  del sys.path[0]\n"
     ]
    }
   ],
   "source": [
    "model = Sequential()\n",
    "model.add(Convolution2D(filters= nb_filters,kernel_size=(kernel_size,kernel_size),input_shape = input_shape,activation='relu'))\n",
    "model.add(MaxPooling2D(pool_size=(pool_size,pool_size)))\n",
    "\n",
    "model.add(Convolution2D(filters=nb_filters, kernel_size=(kernel_size,kernel_size),activation='relu'))\n",
    "model.add(MaxPooling2D(pool_size=(pool_size,pool_size)))\n",
    "\n",
    "model.add(Dropout(0.25))\n",
    "model.add(Flatten())\n",
    "\n",
    "model.add(Dense(output_dim = 128 , activation=\"relu\"))\n",
    "model.add(Dropout(0.5))\n",
    "model.add(Dense(output_dim = nb_classes, activation='softmax'))\n",
    "model.compile(loss = 'categorical_crossentropy', optimizer = 'adam', metrics = ['accuracy'])\n"
   ]
  },
  {
   "cell_type": "code",
   "execution_count": 47,
   "metadata": {},
   "outputs": [
    {
     "name": "stdout",
     "output_type": "stream",
     "text": [
      "_________________________________________________________________\n",
      "Layer (type)                 Output Shape              Param #   \n",
      "=================================================================\n",
      "conv2d_3 (Conv2D)            (None, 26, 26, 32)        320       \n",
      "_________________________________________________________________\n",
      "max_pooling2d_3 (MaxPooling2 (None, 13, 13, 32)        0         \n",
      "_________________________________________________________________\n",
      "conv2d_4 (Conv2D)            (None, 11, 11, 32)        9248      \n",
      "_________________________________________________________________\n",
      "max_pooling2d_4 (MaxPooling2 (None, 5, 5, 32)          0         \n",
      "_________________________________________________________________\n",
      "dropout_3 (Dropout)          (None, 5, 5, 32)          0         \n",
      "_________________________________________________________________\n",
      "flatten_2 (Flatten)          (None, 800)               0         \n",
      "_________________________________________________________________\n",
      "dense_3 (Dense)              (None, 128)               102528    \n",
      "_________________________________________________________________\n",
      "dropout_4 (Dropout)          (None, 128)               0         \n",
      "_________________________________________________________________\n",
      "dense_4 (Dense)              (None, 10)                1290      \n",
      "=================================================================\n",
      "Total params: 113,386\n",
      "Trainable params: 113,386\n",
      "Non-trainable params: 0\n",
      "_________________________________________________________________\n",
      "None\n"
     ]
    }
   ],
   "source": [
    "print(model.summary())"
   ]
  },
  {
   "cell_type": "code",
   "execution_count": 48,
   "metadata": {},
   "outputs": [
    {
     "name": "stdout",
     "output_type": "stream",
     "text": [
      "Train on 48000 samples, validate on 12000 samples\n",
      "Epoch 1/50\n",
      "48000/48000 [==============================] - 43s - loss: 0.2784 - acc: 0.9129 - val_loss: 0.0712 - val_acc: 0.9785\n",
      "Epoch 2/50\n",
      "48000/48000 [==============================] - 48s - loss: 0.1034 - acc: 0.9688 - val_loss: 0.0539 - val_acc: 0.9841\n",
      "Epoch 3/50\n",
      "48000/48000 [==============================] - 47s - loss: 0.0817 - acc: 0.9752 - val_loss: 0.0486 - val_acc: 0.9852\n",
      "Epoch 4/50\n",
      "48000/48000 [==============================] - 47s - loss: 0.0718 - acc: 0.9783 - val_loss: 0.0430 - val_acc: 0.9860\n",
      "Epoch 5/50\n",
      "48000/48000 [==============================] - 42s - loss: 0.0593 - acc: 0.9817 - val_loss: 0.0335 - val_acc: 0.9885\n",
      "Epoch 6/50\n",
      "48000/48000 [==============================] - 40s - loss: 0.0546 - acc: 0.9830 - val_loss: 0.0357 - val_acc: 0.9898\n",
      "Epoch 7/50\n",
      "48000/48000 [==============================] - 42s - loss: 0.0496 - acc: 0.9848 - val_loss: 0.0433 - val_acc: 0.9888\n",
      "Epoch 8/50\n",
      "48000/48000 [==============================] - 41s - loss: 0.0433 - acc: 0.9871 - val_loss: 0.0368 - val_acc: 0.9893\n",
      "Epoch 9/50\n",
      "48000/48000 [==============================] - 41s - loss: 0.0448 - acc: 0.9862 - val_loss: 0.0382 - val_acc: 0.9888\n",
      "Epoch 10/50\n",
      "48000/48000 [==============================] - 48s - loss: 0.0402 - acc: 0.9874 - val_loss: 0.0323 - val_acc: 0.9899\n",
      "Epoch 11/50\n",
      "48000/48000 [==============================] - 47s - loss: 0.0395 - acc: 0.9874 - val_loss: 0.0381 - val_acc: 0.9902\n",
      "Epoch 12/50\n",
      "48000/48000 [==============================] - 46s - loss: 0.0373 - acc: 0.9879 - val_loss: 0.0312 - val_acc: 0.9912\n",
      "Epoch 13/50\n",
      "48000/48000 [==============================] - 46s - loss: 0.0329 - acc: 0.9890 - val_loss: 0.0319 - val_acc: 0.9907\n",
      "Epoch 14/50\n",
      "48000/48000 [==============================] - 48s - loss: 0.0336 - acc: 0.9895 - val_loss: 0.0307 - val_acc: 0.9915\n",
      "Epoch 15/50\n",
      "48000/48000 [==============================] - 47s - loss: 0.0300 - acc: 0.9906 - val_loss: 0.0340 - val_acc: 0.9902\n",
      "Epoch 16/50\n",
      "48000/48000 [==============================] - 48s - loss: 0.0313 - acc: 0.9896 - val_loss: 0.0325 - val_acc: 0.9912\n",
      "Epoch 17/50\n",
      "48000/48000 [==============================] - 48s - loss: 0.0293 - acc: 0.9905 - val_loss: 0.0317 - val_acc: 0.9916\n",
      "Epoch 18/50\n",
      "48000/48000 [==============================] - 49s - loss: 0.0276 - acc: 0.9917 - val_loss: 0.0330 - val_acc: 0.9911\n",
      "Epoch 19/50\n",
      "48000/48000 [==============================] - 47s - loss: 0.0272 - acc: 0.9914 - val_loss: 0.0310 - val_acc: 0.9916\n",
      "Epoch 20/50\n",
      "48000/48000 [==============================] - 50s - loss: 0.0263 - acc: 0.9913 - val_loss: 0.0316 - val_acc: 0.9920\n",
      "Epoch 21/50\n",
      "48000/48000 [==============================] - 48s - loss: 0.0246 - acc: 0.9919 - val_loss: 0.0287 - val_acc: 0.9919\n",
      "Epoch 22/50\n",
      "48000/48000 [==============================] - 51s - loss: 0.0256 - acc: 0.9919 - val_loss: 0.0313 - val_acc: 0.9912\n",
      "Epoch 23/50\n",
      "48000/48000 [==============================] - 49s - loss: 0.0258 - acc: 0.9915 - val_loss: 0.0312 - val_acc: 0.9918\n",
      "Epoch 24/50\n",
      "48000/48000 [==============================] - 48s - loss: 0.0238 - acc: 0.9926 - val_loss: 0.0339 - val_acc: 0.9911\n",
      "Epoch 25/50\n",
      "48000/48000 [==============================] - 49s - loss: 0.0231 - acc: 0.9924 - val_loss: 0.0317 - val_acc: 0.9911\n",
      "Epoch 26/50\n",
      "48000/48000 [==============================] - 49s - loss: 0.0231 - acc: 0.9923 - val_loss: 0.0315 - val_acc: 0.9918\n",
      "Epoch 27/50\n",
      "48000/48000 [==============================] - 48s - loss: 0.0227 - acc: 0.9928 - val_loss: 0.0394 - val_acc: 0.9905\n",
      "Epoch 28/50\n",
      "48000/48000 [==============================] - 48s - loss: 0.0226 - acc: 0.9924 - val_loss: 0.0392 - val_acc: 0.9905\n",
      "Epoch 29/50\n",
      "48000/48000 [==============================] - 48s - loss: 0.0209 - acc: 0.9932 - val_loss: 0.0319 - val_acc: 0.9913\n",
      "Epoch 30/50\n",
      "48000/48000 [==============================] - 47s - loss: 0.0217 - acc: 0.9932 - val_loss: 0.0358 - val_acc: 0.9914\n",
      "Epoch 31/50\n",
      "48000/48000 [==============================] - 48s - loss: 0.0221 - acc: 0.9933 - val_loss: 0.0362 - val_acc: 0.9912\n",
      "Epoch 32/50\n",
      "48000/48000 [==============================] - 47s - loss: 0.0218 - acc: 0.9933 - val_loss: 0.0453 - val_acc: 0.9906\n",
      "Epoch 33/50\n",
      "48000/48000 [==============================] - 43s - loss: 0.0184 - acc: 0.9941 - val_loss: 0.0340 - val_acc: 0.9912\n",
      "Epoch 34/50\n",
      "48000/48000 [==============================] - 41s - loss: 0.0187 - acc: 0.9938 - val_loss: 0.0328 - val_acc: 0.9914\n",
      "Epoch 35/50\n",
      "48000/48000 [==============================] - 41s - loss: 0.0206 - acc: 0.9937 - val_loss: 0.0374 - val_acc: 0.9923\n",
      "Epoch 36/50\n",
      "48000/48000 [==============================] - 47s - loss: 0.0200 - acc: 0.9934 - val_loss: 0.0341 - val_acc: 0.9917\n",
      "Epoch 37/50\n",
      "48000/48000 [==============================] - 48s - loss: 0.0175 - acc: 0.9943 - val_loss: 0.0355 - val_acc: 0.9910\n",
      "Epoch 38/50\n",
      "48000/48000 [==============================] - 46s - loss: 0.0216 - acc: 0.9932 - val_loss: 0.0377 - val_acc: 0.9912\n",
      "Epoch 39/50\n",
      "48000/48000 [==============================] - 48s - loss: 0.0189 - acc: 0.9940 - val_loss: 0.0355 - val_acc: 0.9918\n",
      "Epoch 40/50\n",
      "48000/48000 [==============================] - 53s - loss: 0.0173 - acc: 0.9944 - val_loss: 0.0373 - val_acc: 0.9912\n",
      "Epoch 41/50\n",
      "48000/48000 [==============================] - 47s - loss: 0.0185 - acc: 0.9941 - val_loss: 0.0359 - val_acc: 0.9920\n",
      "Epoch 42/50\n",
      "48000/48000 [==============================] - 47s - loss: 0.0182 - acc: 0.9940 - val_loss: 0.0359 - val_acc: 0.9918\n",
      "Epoch 43/50\n",
      "48000/48000 [==============================] - 46s - loss: 0.0184 - acc: 0.9943 - val_loss: 0.0396 - val_acc: 0.9917\n",
      "Epoch 44/50\n",
      "48000/48000 [==============================] - 47s - loss: 0.0173 - acc: 0.9946 - val_loss: 0.0345 - val_acc: 0.9915.99\n",
      "Epoch 45/50\n",
      "48000/48000 [==============================] - 47s - loss: 0.0181 - acc: 0.9941 - val_loss: 0.0354 - val_acc: 0.9919\n",
      "Epoch 46/50\n",
      "48000/48000 [==============================] - 46s - loss: 0.0155 - acc: 0.9949 - val_loss: 0.0401 - val_acc: 0.9920\n",
      "Epoch 47/50\n",
      "48000/48000 [==============================] - 42s - loss: 0.0198 - acc: 0.9937 - val_loss: 0.0387 - val_acc: 0.9918\n",
      "Epoch 48/50\n",
      "48000/48000 [==============================] - 47s - loss: 0.0159 - acc: 0.9949 - val_loss: 0.0373 - val_acc: 0.9927\n",
      "Epoch 49/50\n",
      "48000/48000 [==============================] - 47s - loss: 0.0168 - acc: 0.9946 - val_loss: 0.0423 - val_acc: 0.9911\n",
      "Epoch 50/50\n",
      "48000/48000 [==============================] - 47s - loss: 0.0176 - acc: 0.9945 - val_loss: 0.0427 - val_acc: 0.9914\n",
      "2350.2834646701813\n"
     ]
    }
   ],
   "source": [
    "import time\n",
    "start_time = time.time()\n",
    "\n",
    "training_history =model.fit(X_train,y_train,batch_size= batch_size, epochs = nb_ephochs, verbose=1, validation_data=(X_val, y_val))\n",
    "\n",
    "training_time = time.time() - start_time\n",
    "print(training_time)"
   ]
  },
  {
   "cell_type": "code",
   "execution_count": 49,
   "metadata": {},
   "outputs": [
    {
     "data": {
      "text/plain": [
       "dict_keys(['val_loss', 'val_acc', 'loss', 'acc'])"
      ]
     },
     "execution_count": 49,
     "metadata": {},
     "output_type": "execute_result"
    }
   ],
   "source": [
    "training_history.history.keys()"
   ]
  },
  {
   "cell_type": "code",
   "execution_count": 50,
   "metadata": {
    "collapsed": true
   },
   "outputs": [],
   "source": [
    "training_accuracy   = training_history.history['acc']\n",
    "validation_accuracy = training_history.history['val_acc']\n",
    "\n",
    "training_loss       = training_history.history['loss']\n",
    "validation_loss     = training_history.history['val_loss']\n"
   ]
  },
  {
   "cell_type": "code",
   "execution_count": 51,
   "metadata": {},
   "outputs": [
    {
     "data": {
      "text/plain": [
       "<matplotlib.text.Text at 0x1423032e6d8>"
      ]
     },
     "execution_count": 51,
     "metadata": {},
     "output_type": "execute_result"
    },
    {
     "data": {
      "image/png": "[encoded data removed]",
      "text/plain": [
       "<matplotlib.figure.Figure at 0x1422fa44710>"
      ]
     },
     "metadata": {},
     "output_type": "display_data"
    }
   ],
   "source": [
    "fig, axes = plt.subplots(nrows=1, ncols=2,figsize=(20,6))\n",
    "\n",
    "axes[0].plot(training_accuracy,'b')\n",
    "axes[0].plot(validation_accuracy,'r')\n",
    "axes[0].legend(['training_acc', 'validation_acc'])\n",
    "axes[0].set_xlabel('No of Epoch')\n",
    "axes[0].set_ylabel('Accuracy')\n",
    "\n",
    "axes[1].plot(training_loss,'b')\n",
    "axes[1].plot(validation_loss,'r')\n",
    "axes[1].legend(['training_loss', 'validation_loss'])\n",
    "axes[1].set_xlabel('No of Epoch')\n",
    "axes[1].set_ylabel('Loss')"
   ]
  },
  {
   "cell_type": "markdown",
   "metadata": {},
   "source": [
    "# Model Evaluation"
   ]
  },
  {
   "cell_type": "code",
   "execution_count": 52,
   "metadata": {},
   "outputs": [
    {
     "name": "stdout",
     "output_type": "stream",
     "text": [
      "10000/10000 [==============================] - 3s     \n"
     ]
    }
   ],
   "source": [
    "score = model.evaluate(X_test, y_test, verbose=1)"
   ]
  },
  {
   "cell_type": "code",
   "execution_count": 53,
   "metadata": {},
   "outputs": [
    {
     "name": "stdout",
     "output_type": "stream",
     "text": [
      "Test loss: 0.030832250112847306  \n",
      " Test Accuracy: 99.31 %\n"
     ]
    }
   ],
   "source": [
    "print('Test loss: {}  \\n Test Accuracy: {} %'.format(score[0],score[1]*100))"
   ]
  }
 ],
 "metadata": {
  "kernelspec": {
   "display_name": "Python 3",
   "language": "python",
   "name": "python3"
  },
  "language_info": {
   "codemirror_mode": {
    "name": "ipython",
    "version": 3
   },
   "file_extension": ".py",
   "mimetype": "text/x-python",
   "name": "python",
   "nbconvert_exporter": "python",
   "pygments_lexer": "ipython3",
   "version": "3.6.1"
  }
 },
 "nbformat": 4,
 "nbformat_minor": 2
}
